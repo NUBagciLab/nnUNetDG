{
 "cells": [
  {
   "cell_type": "code",
   "execution_count": 1,
   "metadata": {},
   "outputs": [],
   "source": [
    "###### update the plan the for network structure and the data split\n",
    "import os\n",
    "import pickle\n",
    "import json\n",
    "\n",
    "base_folder = \"/data/datasets/nnUNetDG/nnUNet_preprocessed\"\n",
    "task_name = \"Task309_ProstateMRIDG\"\n",
    "\n",
    "plans_file = os.path.join(base_folder, task_name, \"nnUNetPlansv2.1_plans_3D.pkl\")\n",
    "plans = pickle.load(open(plans_file, 'rb'))"
   ]
  },
  {
   "cell_type": "code",
   "execution_count": 2,
   "metadata": {},
   "outputs": [],
   "source": [
    "from copy import deepcopy\n",
    "\n",
    "update_plans = deepcopy(plans)\n"
   ]
  },
  {
   "cell_type": "code",
   "execution_count": 3,
   "metadata": {},
   "outputs": [
    {
     "name": "stdout",
     "output_type": "stream",
     "text": [
      "num_stages 1\n",
      "num_modalities 1\n",
      "modalities {0: 'MRI'}\n",
      "normalization_schemes OrderedDict([(0, 'nonCT')])\n",
      "dataset_properties {'all_sizes': [(47, 384, 384), (54, 384, 384), (42, 384, 384), (46, 384, 384), (42, 384, 384), (39, 384, 384), (34, 384, 384), (40, 384, 384), (47, 384, 384), (39, 384, 384), (45, 384, 384), (46, 384, 384), (32, 384, 384), (30, 384, 384), (32, 384, 384), (32, 384, 384), (32, 384, 384), (36, 384, 384), (32, 384, 384), (32, 384, 384), (32, 384, 384), (32, 384, 384), (38, 384, 384), (32, 384, 384), (32, 384, 384), (32, 384, 384), (32, 384, 384), (32, 384, 384), (32, 384, 384), (23, 384, 384), (32, 384, 384), (32, 384, 384), (32, 384, 384), (32, 384, 384), (32, 384, 384), (32, 384, 384), (35, 384, 384), (34, 384, 384), (34, 384, 384), (32, 384, 384), (32, 384, 384), (32, 384, 384), (24, 384, 384), (24, 384, 383), (24, 384, 383), (24, 384, 383), (24, 384, 384), (24, 384, 384), (24, 384, 383), (24, 384, 384), (24, 384, 384), (24, 384, 383), (24, 384, 383), (24, 384, 384), (64, 384, 384), (64, 384, 384), (64, 384, 384), (64, 384, 384), (64, 384, 384), (64, 384, 384), (64, 384, 384), (64, 384, 384), (64, 384, 384), (64, 384, 384), (64, 384, 384), (64, 384, 384), (64, 384, 384), (64, 384, 384), (64, 384, 384), (64, 384, 384), (64, 384, 384), (64, 384, 384), (64, 384, 384), (15, 384, 384), (20, 384, 383), (24, 384, 383), (20, 384, 384), (20, 384, 384), (20, 384, 383), (20, 384, 383), (15, 384, 384), (17, 384, 384), (20, 384, 383), (20, 384, 383), (20, 384, 383), (15, 384, 384), (20, 384, 383), (20, 384, 383), (20, 384, 384), (20, 384, 383), (20, 384, 383), (18, 384, 384), (20, 384, 383), (20, 384, 383), (20, 384, 383), (20, 384, 383), (20, 384, 384), (19, 384, 383), (20, 384, 383), (20, 384, 383), (15, 384, 384), (20, 384, 384), (20, 384, 384), (29, 384, 384), (23, 383, 383), (23, 383, 384), (23, 383, 383), (23, 383, 383), (23, 383, 383), (23, 383, 383), (23, 383, 383), (23, 383, 383), (28, 383, 384), (23, 384, 383), (26, 384, 383), (28, 384, 383)], 'all_spacings': [array([2.20001006, 0.36458266, 0.364584  ]), array([2.19998002, 0.36458668, 0.364584  ]), array([2.20002007, 0.364584  , 0.36458534]), array([2.20050001, 0.36458534, 0.36458668]), array([2.20005012, 0.36458001, 0.364584  ]), array([2.7999301 , 0.41666132, 0.41666535]), array([2.99993992, 0.364584  , 0.364584  ]), array([2.79996991, 0.41667068, 0.416668  ]), array([2.20001006, 0.36458001, 0.364584  ]), array([2.79998994, 0.41667199, 0.41666666]), array([2.79997993, 0.41666934, 0.41666535]), array([2.19993997, 0.36458001, 0.364584  ]), array([3.00000286, 0.41666669, 0.41666669]), array([2.99999952, 0.41666669, 0.41666669]), array([3.00000215, 0.41666669, 0.41666669]), array([3.00000215, 0.41666669, 0.41666669]), array([3.00000072, 0.41666669, 0.41666669]), array([3.        , 0.41666669, 0.41666669]), array([3.00000024, 0.41666669, 0.41666669]), array([2.99999833, 0.41666669, 0.41666669]), array([2.99999666, 0.41666669, 0.41666669]), array([2.99999928, 0.41666669, 0.41666669]), array([3.00000143, 0.41666669, 0.41666669]), array([2.99999309, 0.41666669, 0.41666669]), array([3.00000644, 0.41666669, 0.41666669]), array([3.00000024, 0.41666669, 0.41666669]), array([2.99999905, 0.41666669, 0.41666669]), array([3.0000031 , 0.41666669, 0.41666669]), array([3.00000024, 0.41666669, 0.41666669]), array([4.00000048, 0.41666669, 0.41666669]), array([2.99999738, 0.41666669, 0.41666669]), array([2.99999952, 0.41666669, 0.41666669]), array([2.99999928, 0.41666669, 0.41666669]), array([2.99999738, 0.41666669, 0.41666669]), array([3.00000072, 0.41666669, 0.41666669]), array([2.99999404, 0.41666669, 0.41666669]), array([3.00000215, 0.41666669, 0.41666669]), array([3.00000525, 0.41666669, 0.41666669]), array([3.00000024, 0.41666669, 0.41666669]), array([3.00000596, 0.41666669, 0.41666669]), array([3.00000119, 0.41666669, 0.41666669]), array([2.99999833, 0.44270831, 0.44270831]), array([3.5999999 , 0.52083331, 0.52083331]), array([3.5999999 , 0.52083331, 0.52083331]), array([3.5999999 , 0.52083331, 0.52083331]), array([3.5999999 , 0.52083331, 0.52083331]), array([3.5999999 , 0.52083331, 0.52083331]), array([3.5999999 , 0.52083331, 0.52083331]), array([3.5999999 , 0.52083331, 0.52083331]), array([3.5999999 , 0.52083331, 0.52083331]), array([3.5999999 , 0.52083331, 0.52083331]), array([3.5999999 , 0.52083331, 0.52083331]), array([3.5999999 , 0.52083331, 0.52083331]), array([3.5999999 , 0.52083331, 0.52083331]), array([1.25008535, 0.42852187, 0.53426105]), array([1.24996758, 0.42852187, 0.53426105]), array([1.24989367, 0.42931694, 0.53426105]), array([1.24999857, 0.43885732, 0.53426105]), array([1.24998164, 0.43885732, 0.53426105]), array([1.2500155 , 0.42852187, 0.53426105]), array([1.24992073, 0.43885732, 0.53426105]), array([1.24987125, 0.43885732, 0.53426105]), array([1.24979854, 0.43885732, 0.53426105]), array([1.24990249, 0.42852187, 0.53426105]), array([1.25010669, 0.42852187, 0.53426105]), array([1.25009513, 0.42852187, 0.53426105]), array([1.25048256, 0.43885732, 0.53426105]), array([1.25007653, 0.43885732, 0.53426105]), array([1.25035334, 0.42852187, 0.53426105]), array([1.24988294, 0.4006958 , 0.53426105]), array([1.24999928, 0.46782479, 0.56952584]), array([1.24990606, 0.43885732, 0.53426105]), array([1.24982834, 0.50693089, 0.61713326]), array([4.00000668, 0.5       , 0.5       ]), array([3.59999847, 0.52083331, 0.52083331]), array([3.60000229, 0.52083331, 0.52083331]), array([3.60000229, 0.52083331, 0.52083331]), array([3.60000086, 0.52083331, 0.52083331]), array([3.59999847, 0.52083331, 0.52083331]), array([3.60000229, 0.52083331, 0.52083331]), array([3.99999833, 0.5       , 0.5       ]), array([4.00000668, 0.5       , 0.5       ]), array([3.59999084, 0.52083331, 0.52083331]), array([3.59999847, 0.52083331, 0.52083331]), array([3.59999847, 0.52083331, 0.52083331]), array([4.00000048, 0.5       , 0.5       ]), array([3.59999847, 0.52083331, 0.52083331]), array([3.5999999 , 0.52083331, 0.52083331]), array([3.60000539, 0.52083331, 0.52083331]), array([3.60000229, 0.52083331, 0.52083331]), array([3.59999847, 0.52083331, 0.52083331]), array([4.00000191, 0.5       , 0.5       ]), array([3.60000038, 0.52083331, 0.52083331]), array([3.6000061 , 0.52083331, 0.52083331]), array([3.59999847, 0.52083331, 0.52083331]), array([3.59999847, 0.52083331, 0.52083331]), array([3.59999847, 0.52083331, 0.52083331]), array([3.59999847, 0.52083331, 0.52083331]), array([3.6000061 , 0.52083331, 0.52083331]), array([3.59999847, 0.52083331, 0.52083331]), array([4.00000048, 0.5       , 0.5       ]), array([3.5999999 , 0.52083331, 0.52083331]), array([3.59999847, 0.52083331, 0.52083331]), array([3.00026011, 0.46875599, 0.46875066]), array([3.29999995, 0.52083331, 0.52083331]), array([3.29999995, 0.52083331, 0.52083331]), array([3.29999995, 0.52083331, 0.52083331]), array([3.29999995, 0.52083331, 0.52083331]), array([3.29999995, 0.52083331, 0.52083331]), array([3.29999995, 0.52083331, 0.52083331]), array([3.29999995, 0.52083331, 0.52083331]), array([3.        , 0.46875066, 0.46875066]), array([3.32999992, 0.46875   , 0.46875   ]), array([3.29999995, 0.46875   , 0.46875   ]), array([3.29999995, 0.46875066, 0.46875066]), array([3.5999999 , 0.52083331, 0.52083331])], 'all_classes': [1], 'modalities': {0: 'MRI'}, 'intensityproperties': None, 'size_reductions': OrderedDict([('BIDMC_Case00', 1.0), ('BIDMC_Case02', 1.0), ('BIDMC_Case03', 1.0), ('BIDMC_Case04', 1.0), ('BIDMC_Case05', 1.0), ('BIDMC_Case06', 1.0), ('BIDMC_Case07', 1.0), ('BIDMC_Case08', 1.0), ('BIDMC_Case09', 1.0), ('BIDMC_Case10', 1.0), ('BIDMC_Case11', 1.0), ('BIDMC_Case12', 1.0), ('BMC_Case00', 1.0), ('BMC_Case01', 1.0), ('BMC_Case02', 1.0), ('BMC_Case03', 1.0), ('BMC_Case04', 1.0), ('BMC_Case05', 1.0), ('BMC_Case06', 1.0), ('BMC_Case07', 1.0), ('BMC_Case08', 1.0), ('BMC_Case09', 1.0), ('BMC_Case10', 1.0), ('BMC_Case11', 1.0), ('BMC_Case12', 1.0), ('BMC_Case13', 1.0), ('BMC_Case14', 1.0), ('BMC_Case15', 1.0), ('BMC_Case16', 1.0), ('BMC_Case17', 1.0), ('BMC_Case18', 1.0), ('BMC_Case19', 1.0), ('BMC_Case20', 1.0), ('BMC_Case21', 1.0), ('BMC_Case22', 1.0), ('BMC_Case23', 1.0), ('BMC_Case24', 1.0), ('BMC_Case25', 1.0), ('BMC_Case26', 1.0), ('BMC_Case27', 1.0), ('BMC_Case28', 1.0), ('BMC_Case29', 1.0), ('HK_Case38', 1.0), ('HK_Case39', 0.9973958333333334), ('HK_Case40', 0.9973958333333334), ('HK_Case41', 0.9973958333333334), ('HK_Case42', 1.0), ('HK_Case43', 1.0), ('HK_Case44', 0.9973958333333334), ('HK_Case45', 1.0), ('HK_Case46', 1.0), ('HK_Case47', 0.9973958333333334), ('HK_Case48', 0.9973958333333334), ('HK_Case49', 1.0), ('I2CVB_Case00', 1.0), ('I2CVB_Case01', 1.0), ('I2CVB_Case02', 1.0), ('I2CVB_Case03', 1.0), ('I2CVB_Case04', 1.0), ('I2CVB_Case05', 1.0), ('I2CVB_Case06', 1.0), ('I2CVB_Case07', 1.0), ('I2CVB_Case08', 1.0), ('I2CVB_Case09', 1.0), ('I2CVB_Case10', 1.0), ('I2CVB_Case11', 1.0), ('I2CVB_Case12', 1.0), ('I2CVB_Case13', 1.0), ('I2CVB_Case14', 1.0), ('I2CVB_Case15', 1.0), ('I2CVB_Case16', 1.0), ('I2CVB_Case17', 1.0), ('I2CVB_Case18', 1.0), ('RUNMC_Case00', 1.0), ('RUNMC_Case01', 0.9973958333333334), ('RUNMC_Case02', 0.9973958333333334), ('RUNMC_Case03', 1.0), ('RUNMC_Case04', 1.0), ('RUNMC_Case05', 0.9973958333333334), ('RUNMC_Case06', 0.9973958333333334), ('RUNMC_Case07', 1.0), ('RUNMC_Case08', 1.0), ('RUNMC_Case09', 0.9973958333333334), ('RUNMC_Case10', 0.9973958333333334), ('RUNMC_Case11', 0.9973958333333334), ('RUNMC_Case12', 1.0), ('RUNMC_Case13', 0.9973958333333334), ('RUNMC_Case14', 0.9973958333333334), ('RUNMC_Case15', 1.0), ('RUNMC_Case16', 0.9973958333333334), ('RUNMC_Case17', 0.9973958333333334), ('RUNMC_Case18', 1.0), ('RUNMC_Case19', 0.9973958333333334), ('RUNMC_Case20', 0.9973958333333334), ('RUNMC_Case21', 0.9973958333333334), ('RUNMC_Case22', 0.9973958333333334), ('RUNMC_Case23', 1.0), ('RUNMC_Case24', 0.9973958333333334), ('RUNMC_Case25', 0.9973958333333334), ('RUNMC_Case26', 0.9973958333333334), ('RUNMC_Case27', 1.0), ('RUNMC_Case28', 1.0), ('RUNMC_Case29', 1.0), ('UCL_Case01', 1.0), ('UCL_Case26', 0.9947984483506944), ('UCL_Case27', 0.9973958333333334), ('UCL_Case28', 0.9947984483506944), ('UCL_Case29', 0.9947984483506944), ('UCL_Case30', 0.9947984483506944), ('UCL_Case31', 0.9947984483506944), ('UCL_Case32', 0.9947984483506944), ('UCL_Case33', 0.9947984483506944), ('UCL_Case34', 0.9973958333333334), ('UCL_Case35', 0.9973958333333334), ('UCL_Case36', 0.9973958333333334), ('UCL_Case37', 0.9973958333333334)])}\n",
      "list_of_npz_files ['/data/datasets/nnUNetDG/nnUNet_raw_data_base/nnUNet_cropped_data/Task309_ProstateMRIDG/BIDMC_Case00.npz', '/data/datasets/nnUNetDG/nnUNet_raw_data_base/nnUNet_cropped_data/Task309_ProstateMRIDG/BIDMC_Case02.npz', '/data/datasets/nnUNetDG/nnUNet_raw_data_base/nnUNet_cropped_data/Task309_ProstateMRIDG/BIDMC_Case03.npz', '/data/datasets/nnUNetDG/nnUNet_raw_data_base/nnUNet_cropped_data/Task309_ProstateMRIDG/BIDMC_Case04.npz', '/data/datasets/nnUNetDG/nnUNet_raw_data_base/nnUNet_cropped_data/Task309_ProstateMRIDG/BIDMC_Case05.npz', '/data/datasets/nnUNetDG/nnUNet_raw_data_base/nnUNet_cropped_data/Task309_ProstateMRIDG/BIDMC_Case06.npz', '/data/datasets/nnUNetDG/nnUNet_raw_data_base/nnUNet_cropped_data/Task309_ProstateMRIDG/BIDMC_Case07.npz', '/data/datasets/nnUNetDG/nnUNet_raw_data_base/nnUNet_cropped_data/Task309_ProstateMRIDG/BIDMC_Case08.npz', '/data/datasets/nnUNetDG/nnUNet_raw_data_base/nnUNet_cropped_data/Task309_ProstateMRIDG/BIDMC_Case09.npz', '/data/datasets/nnUNetDG/nnUNet_raw_data_base/nnUNet_cropped_data/Task309_ProstateMRIDG/BIDMC_Case10.npz', '/data/datasets/nnUNetDG/nnUNet_raw_data_base/nnUNet_cropped_data/Task309_ProstateMRIDG/BIDMC_Case11.npz', '/data/datasets/nnUNetDG/nnUNet_raw_data_base/nnUNet_cropped_data/Task309_ProstateMRIDG/BIDMC_Case12.npz', '/data/datasets/nnUNetDG/nnUNet_raw_data_base/nnUNet_cropped_data/Task309_ProstateMRIDG/BMC_Case00.npz', '/data/datasets/nnUNetDG/nnUNet_raw_data_base/nnUNet_cropped_data/Task309_ProstateMRIDG/BMC_Case01.npz', '/data/datasets/nnUNetDG/nnUNet_raw_data_base/nnUNet_cropped_data/Task309_ProstateMRIDG/BMC_Case02.npz', '/data/datasets/nnUNetDG/nnUNet_raw_data_base/nnUNet_cropped_data/Task309_ProstateMRIDG/BMC_Case03.npz', '/data/datasets/nnUNetDG/nnUNet_raw_data_base/nnUNet_cropped_data/Task309_ProstateMRIDG/BMC_Case04.npz', '/data/datasets/nnUNetDG/nnUNet_raw_data_base/nnUNet_cropped_data/Task309_ProstateMRIDG/BMC_Case05.npz', '/data/datasets/nnUNetDG/nnUNet_raw_data_base/nnUNet_cropped_data/Task309_ProstateMRIDG/BMC_Case06.npz', '/data/datasets/nnUNetDG/nnUNet_raw_data_base/nnUNet_cropped_data/Task309_ProstateMRIDG/BMC_Case07.npz', '/data/datasets/nnUNetDG/nnUNet_raw_data_base/nnUNet_cropped_data/Task309_ProstateMRIDG/BMC_Case08.npz', '/data/datasets/nnUNetDG/nnUNet_raw_data_base/nnUNet_cropped_data/Task309_ProstateMRIDG/BMC_Case09.npz', '/data/datasets/nnUNetDG/nnUNet_raw_data_base/nnUNet_cropped_data/Task309_ProstateMRIDG/BMC_Case10.npz', '/data/datasets/nnUNetDG/nnUNet_raw_data_base/nnUNet_cropped_data/Task309_ProstateMRIDG/BMC_Case11.npz', '/data/datasets/nnUNetDG/nnUNet_raw_data_base/nnUNet_cropped_data/Task309_ProstateMRIDG/BMC_Case12.npz', '/data/datasets/nnUNetDG/nnUNet_raw_data_base/nnUNet_cropped_data/Task309_ProstateMRIDG/BMC_Case13.npz', '/data/datasets/nnUNetDG/nnUNet_raw_data_base/nnUNet_cropped_data/Task309_ProstateMRIDG/BMC_Case14.npz', '/data/datasets/nnUNetDG/nnUNet_raw_data_base/nnUNet_cropped_data/Task309_ProstateMRIDG/BMC_Case15.npz', '/data/datasets/nnUNetDG/nnUNet_raw_data_base/nnUNet_cropped_data/Task309_ProstateMRIDG/BMC_Case16.npz', '/data/datasets/nnUNetDG/nnUNet_raw_data_base/nnUNet_cropped_data/Task309_ProstateMRIDG/BMC_Case17.npz', '/data/datasets/nnUNetDG/nnUNet_raw_data_base/nnUNet_cropped_data/Task309_ProstateMRIDG/BMC_Case18.npz', '/data/datasets/nnUNetDG/nnUNet_raw_data_base/nnUNet_cropped_data/Task309_ProstateMRIDG/BMC_Case19.npz', '/data/datasets/nnUNetDG/nnUNet_raw_data_base/nnUNet_cropped_data/Task309_ProstateMRIDG/BMC_Case20.npz', '/data/datasets/nnUNetDG/nnUNet_raw_data_base/nnUNet_cropped_data/Task309_ProstateMRIDG/BMC_Case21.npz', '/data/datasets/nnUNetDG/nnUNet_raw_data_base/nnUNet_cropped_data/Task309_ProstateMRIDG/BMC_Case22.npz', '/data/datasets/nnUNetDG/nnUNet_raw_data_base/nnUNet_cropped_data/Task309_ProstateMRIDG/BMC_Case23.npz', '/data/datasets/nnUNetDG/nnUNet_raw_data_base/nnUNet_cropped_data/Task309_ProstateMRIDG/BMC_Case24.npz', '/data/datasets/nnUNetDG/nnUNet_raw_data_base/nnUNet_cropped_data/Task309_ProstateMRIDG/BMC_Case25.npz', '/data/datasets/nnUNetDG/nnUNet_raw_data_base/nnUNet_cropped_data/Task309_ProstateMRIDG/BMC_Case26.npz', '/data/datasets/nnUNetDG/nnUNet_raw_data_base/nnUNet_cropped_data/Task309_ProstateMRIDG/BMC_Case27.npz', '/data/datasets/nnUNetDG/nnUNet_raw_data_base/nnUNet_cropped_data/Task309_ProstateMRIDG/BMC_Case28.npz', '/data/datasets/nnUNetDG/nnUNet_raw_data_base/nnUNet_cropped_data/Task309_ProstateMRIDG/BMC_Case29.npz', '/data/datasets/nnUNetDG/nnUNet_raw_data_base/nnUNet_cropped_data/Task309_ProstateMRIDG/HK_Case38.npz', '/data/datasets/nnUNetDG/nnUNet_raw_data_base/nnUNet_cropped_data/Task309_ProstateMRIDG/HK_Case39.npz', '/data/datasets/nnUNetDG/nnUNet_raw_data_base/nnUNet_cropped_data/Task309_ProstateMRIDG/HK_Case40.npz', '/data/datasets/nnUNetDG/nnUNet_raw_data_base/nnUNet_cropped_data/Task309_ProstateMRIDG/HK_Case41.npz', '/data/datasets/nnUNetDG/nnUNet_raw_data_base/nnUNet_cropped_data/Task309_ProstateMRIDG/HK_Case42.npz', '/data/datasets/nnUNetDG/nnUNet_raw_data_base/nnUNet_cropped_data/Task309_ProstateMRIDG/HK_Case43.npz', '/data/datasets/nnUNetDG/nnUNet_raw_data_base/nnUNet_cropped_data/Task309_ProstateMRIDG/HK_Case44.npz', '/data/datasets/nnUNetDG/nnUNet_raw_data_base/nnUNet_cropped_data/Task309_ProstateMRIDG/HK_Case45.npz', '/data/datasets/nnUNetDG/nnUNet_raw_data_base/nnUNet_cropped_data/Task309_ProstateMRIDG/HK_Case46.npz', '/data/datasets/nnUNetDG/nnUNet_raw_data_base/nnUNet_cropped_data/Task309_ProstateMRIDG/HK_Case47.npz', '/data/datasets/nnUNetDG/nnUNet_raw_data_base/nnUNet_cropped_data/Task309_ProstateMRIDG/HK_Case48.npz', '/data/datasets/nnUNetDG/nnUNet_raw_data_base/nnUNet_cropped_data/Task309_ProstateMRIDG/HK_Case49.npz', '/data/datasets/nnUNetDG/nnUNet_raw_data_base/nnUNet_cropped_data/Task309_ProstateMRIDG/I2CVB_Case00.npz', '/data/datasets/nnUNetDG/nnUNet_raw_data_base/nnUNet_cropped_data/Task309_ProstateMRIDG/I2CVB_Case01.npz', '/data/datasets/nnUNetDG/nnUNet_raw_data_base/nnUNet_cropped_data/Task309_ProstateMRIDG/I2CVB_Case02.npz', '/data/datasets/nnUNetDG/nnUNet_raw_data_base/nnUNet_cropped_data/Task309_ProstateMRIDG/I2CVB_Case03.npz', '/data/datasets/nnUNetDG/nnUNet_raw_data_base/nnUNet_cropped_data/Task309_ProstateMRIDG/I2CVB_Case04.npz', '/data/datasets/nnUNetDG/nnUNet_raw_data_base/nnUNet_cropped_data/Task309_ProstateMRIDG/I2CVB_Case05.npz', '/data/datasets/nnUNetDG/nnUNet_raw_data_base/nnUNet_cropped_data/Task309_ProstateMRIDG/I2CVB_Case06.npz', '/data/datasets/nnUNetDG/nnUNet_raw_data_base/nnUNet_cropped_data/Task309_ProstateMRIDG/I2CVB_Case07.npz', '/data/datasets/nnUNetDG/nnUNet_raw_data_base/nnUNet_cropped_data/Task309_ProstateMRIDG/I2CVB_Case08.npz', '/data/datasets/nnUNetDG/nnUNet_raw_data_base/nnUNet_cropped_data/Task309_ProstateMRIDG/I2CVB_Case09.npz', '/data/datasets/nnUNetDG/nnUNet_raw_data_base/nnUNet_cropped_data/Task309_ProstateMRIDG/I2CVB_Case10.npz', '/data/datasets/nnUNetDG/nnUNet_raw_data_base/nnUNet_cropped_data/Task309_ProstateMRIDG/I2CVB_Case11.npz', '/data/datasets/nnUNetDG/nnUNet_raw_data_base/nnUNet_cropped_data/Task309_ProstateMRIDG/I2CVB_Case12.npz', '/data/datasets/nnUNetDG/nnUNet_raw_data_base/nnUNet_cropped_data/Task309_ProstateMRIDG/I2CVB_Case13.npz', '/data/datasets/nnUNetDG/nnUNet_raw_data_base/nnUNet_cropped_data/Task309_ProstateMRIDG/I2CVB_Case14.npz', '/data/datasets/nnUNetDG/nnUNet_raw_data_base/nnUNet_cropped_data/Task309_ProstateMRIDG/I2CVB_Case15.npz', '/data/datasets/nnUNetDG/nnUNet_raw_data_base/nnUNet_cropped_data/Task309_ProstateMRIDG/I2CVB_Case16.npz', '/data/datasets/nnUNetDG/nnUNet_raw_data_base/nnUNet_cropped_data/Task309_ProstateMRIDG/I2CVB_Case17.npz', '/data/datasets/nnUNetDG/nnUNet_raw_data_base/nnUNet_cropped_data/Task309_ProstateMRIDG/I2CVB_Case18.npz', '/data/datasets/nnUNetDG/nnUNet_raw_data_base/nnUNet_cropped_data/Task309_ProstateMRIDG/RUNMC_Case00.npz', '/data/datasets/nnUNetDG/nnUNet_raw_data_base/nnUNet_cropped_data/Task309_ProstateMRIDG/RUNMC_Case01.npz', '/data/datasets/nnUNetDG/nnUNet_raw_data_base/nnUNet_cropped_data/Task309_ProstateMRIDG/RUNMC_Case02.npz', '/data/datasets/nnUNetDG/nnUNet_raw_data_base/nnUNet_cropped_data/Task309_ProstateMRIDG/RUNMC_Case03.npz', '/data/datasets/nnUNetDG/nnUNet_raw_data_base/nnUNet_cropped_data/Task309_ProstateMRIDG/RUNMC_Case04.npz', '/data/datasets/nnUNetDG/nnUNet_raw_data_base/nnUNet_cropped_data/Task309_ProstateMRIDG/RUNMC_Case05.npz', '/data/datasets/nnUNetDG/nnUNet_raw_data_base/nnUNet_cropped_data/Task309_ProstateMRIDG/RUNMC_Case06.npz', '/data/datasets/nnUNetDG/nnUNet_raw_data_base/nnUNet_cropped_data/Task309_ProstateMRIDG/RUNMC_Case07.npz', '/data/datasets/nnUNetDG/nnUNet_raw_data_base/nnUNet_cropped_data/Task309_ProstateMRIDG/RUNMC_Case08.npz', '/data/datasets/nnUNetDG/nnUNet_raw_data_base/nnUNet_cropped_data/Task309_ProstateMRIDG/RUNMC_Case09.npz', '/data/datasets/nnUNetDG/nnUNet_raw_data_base/nnUNet_cropped_data/Task309_ProstateMRIDG/RUNMC_Case10.npz', '/data/datasets/nnUNetDG/nnUNet_raw_data_base/nnUNet_cropped_data/Task309_ProstateMRIDG/RUNMC_Case11.npz', '/data/datasets/nnUNetDG/nnUNet_raw_data_base/nnUNet_cropped_data/Task309_ProstateMRIDG/RUNMC_Case12.npz', '/data/datasets/nnUNetDG/nnUNet_raw_data_base/nnUNet_cropped_data/Task309_ProstateMRIDG/RUNMC_Case13.npz', '/data/datasets/nnUNetDG/nnUNet_raw_data_base/nnUNet_cropped_data/Task309_ProstateMRIDG/RUNMC_Case14.npz', '/data/datasets/nnUNetDG/nnUNet_raw_data_base/nnUNet_cropped_data/Task309_ProstateMRIDG/RUNMC_Case15.npz', '/data/datasets/nnUNetDG/nnUNet_raw_data_base/nnUNet_cropped_data/Task309_ProstateMRIDG/RUNMC_Case16.npz', '/data/datasets/nnUNetDG/nnUNet_raw_data_base/nnUNet_cropped_data/Task309_ProstateMRIDG/RUNMC_Case17.npz', '/data/datasets/nnUNetDG/nnUNet_raw_data_base/nnUNet_cropped_data/Task309_ProstateMRIDG/RUNMC_Case18.npz', '/data/datasets/nnUNetDG/nnUNet_raw_data_base/nnUNet_cropped_data/Task309_ProstateMRIDG/RUNMC_Case19.npz', '/data/datasets/nnUNetDG/nnUNet_raw_data_base/nnUNet_cropped_data/Task309_ProstateMRIDG/RUNMC_Case20.npz', '/data/datasets/nnUNetDG/nnUNet_raw_data_base/nnUNet_cropped_data/Task309_ProstateMRIDG/RUNMC_Case21.npz', '/data/datasets/nnUNetDG/nnUNet_raw_data_base/nnUNet_cropped_data/Task309_ProstateMRIDG/RUNMC_Case22.npz', '/data/datasets/nnUNetDG/nnUNet_raw_data_base/nnUNet_cropped_data/Task309_ProstateMRIDG/RUNMC_Case23.npz', '/data/datasets/nnUNetDG/nnUNet_raw_data_base/nnUNet_cropped_data/Task309_ProstateMRIDG/RUNMC_Case24.npz', '/data/datasets/nnUNetDG/nnUNet_raw_data_base/nnUNet_cropped_data/Task309_ProstateMRIDG/RUNMC_Case25.npz', '/data/datasets/nnUNetDG/nnUNet_raw_data_base/nnUNet_cropped_data/Task309_ProstateMRIDG/RUNMC_Case26.npz', '/data/datasets/nnUNetDG/nnUNet_raw_data_base/nnUNet_cropped_data/Task309_ProstateMRIDG/RUNMC_Case27.npz', '/data/datasets/nnUNetDG/nnUNet_raw_data_base/nnUNet_cropped_data/Task309_ProstateMRIDG/RUNMC_Case28.npz', '/data/datasets/nnUNetDG/nnUNet_raw_data_base/nnUNet_cropped_data/Task309_ProstateMRIDG/RUNMC_Case29.npz', '/data/datasets/nnUNetDG/nnUNet_raw_data_base/nnUNet_cropped_data/Task309_ProstateMRIDG/UCL_Case01.npz', '/data/datasets/nnUNetDG/nnUNet_raw_data_base/nnUNet_cropped_data/Task309_ProstateMRIDG/UCL_Case26.npz', '/data/datasets/nnUNetDG/nnUNet_raw_data_base/nnUNet_cropped_data/Task309_ProstateMRIDG/UCL_Case27.npz', '/data/datasets/nnUNetDG/nnUNet_raw_data_base/nnUNet_cropped_data/Task309_ProstateMRIDG/UCL_Case28.npz', '/data/datasets/nnUNetDG/nnUNet_raw_data_base/nnUNet_cropped_data/Task309_ProstateMRIDG/UCL_Case29.npz', '/data/datasets/nnUNetDG/nnUNet_raw_data_base/nnUNet_cropped_data/Task309_ProstateMRIDG/UCL_Case30.npz', '/data/datasets/nnUNetDG/nnUNet_raw_data_base/nnUNet_cropped_data/Task309_ProstateMRIDG/UCL_Case31.npz', '/data/datasets/nnUNetDG/nnUNet_raw_data_base/nnUNet_cropped_data/Task309_ProstateMRIDG/UCL_Case32.npz', '/data/datasets/nnUNetDG/nnUNet_raw_data_base/nnUNet_cropped_data/Task309_ProstateMRIDG/UCL_Case33.npz', '/data/datasets/nnUNetDG/nnUNet_raw_data_base/nnUNet_cropped_data/Task309_ProstateMRIDG/UCL_Case34.npz', '/data/datasets/nnUNetDG/nnUNet_raw_data_base/nnUNet_cropped_data/Task309_ProstateMRIDG/UCL_Case35.npz', '/data/datasets/nnUNetDG/nnUNet_raw_data_base/nnUNet_cropped_data/Task309_ProstateMRIDG/UCL_Case36.npz', '/data/datasets/nnUNetDG/nnUNet_raw_data_base/nnUNet_cropped_data/Task309_ProstateMRIDG/UCL_Case37.npz']\n",
      "original_spacings [array([2.20001006, 0.36458266, 0.364584  ]), array([2.19998002, 0.36458668, 0.364584  ]), array([2.20002007, 0.364584  , 0.36458534]), array([2.20050001, 0.36458534, 0.36458668]), array([2.20005012, 0.36458001, 0.364584  ]), array([2.7999301 , 0.41666132, 0.41666535]), array([2.99993992, 0.364584  , 0.364584  ]), array([2.79996991, 0.41667068, 0.416668  ]), array([2.20001006, 0.36458001, 0.364584  ]), array([2.79998994, 0.41667199, 0.41666666]), array([2.79997993, 0.41666934, 0.41666535]), array([2.19993997, 0.36458001, 0.364584  ]), array([3.00000286, 0.41666669, 0.41666669]), array([2.99999952, 0.41666669, 0.41666669]), array([3.00000215, 0.41666669, 0.41666669]), array([3.00000215, 0.41666669, 0.41666669]), array([3.00000072, 0.41666669, 0.41666669]), array([3.        , 0.41666669, 0.41666669]), array([3.00000024, 0.41666669, 0.41666669]), array([2.99999833, 0.41666669, 0.41666669]), array([2.99999666, 0.41666669, 0.41666669]), array([2.99999928, 0.41666669, 0.41666669]), array([3.00000143, 0.41666669, 0.41666669]), array([2.99999309, 0.41666669, 0.41666669]), array([3.00000644, 0.41666669, 0.41666669]), array([3.00000024, 0.41666669, 0.41666669]), array([2.99999905, 0.41666669, 0.41666669]), array([3.0000031 , 0.41666669, 0.41666669]), array([3.00000024, 0.41666669, 0.41666669]), array([4.00000048, 0.41666669, 0.41666669]), array([2.99999738, 0.41666669, 0.41666669]), array([2.99999952, 0.41666669, 0.41666669]), array([2.99999928, 0.41666669, 0.41666669]), array([2.99999738, 0.41666669, 0.41666669]), array([3.00000072, 0.41666669, 0.41666669]), array([2.99999404, 0.41666669, 0.41666669]), array([3.00000215, 0.41666669, 0.41666669]), array([3.00000525, 0.41666669, 0.41666669]), array([3.00000024, 0.41666669, 0.41666669]), array([3.00000596, 0.41666669, 0.41666669]), array([3.00000119, 0.41666669, 0.41666669]), array([2.99999833, 0.44270831, 0.44270831]), array([3.5999999 , 0.52083331, 0.52083331]), array([3.5999999 , 0.52083331, 0.52083331]), array([3.5999999 , 0.52083331, 0.52083331]), array([3.5999999 , 0.52083331, 0.52083331]), array([3.5999999 , 0.52083331, 0.52083331]), array([3.5999999 , 0.52083331, 0.52083331]), array([3.5999999 , 0.52083331, 0.52083331]), array([3.5999999 , 0.52083331, 0.52083331]), array([3.5999999 , 0.52083331, 0.52083331]), array([3.5999999 , 0.52083331, 0.52083331]), array([3.5999999 , 0.52083331, 0.52083331]), array([3.5999999 , 0.52083331, 0.52083331]), array([1.25008535, 0.42852187, 0.53426105]), array([1.24996758, 0.42852187, 0.53426105]), array([1.24989367, 0.42931694, 0.53426105]), array([1.24999857, 0.43885732, 0.53426105]), array([1.24998164, 0.43885732, 0.53426105]), array([1.2500155 , 0.42852187, 0.53426105]), array([1.24992073, 0.43885732, 0.53426105]), array([1.24987125, 0.43885732, 0.53426105]), array([1.24979854, 0.43885732, 0.53426105]), array([1.24990249, 0.42852187, 0.53426105]), array([1.25010669, 0.42852187, 0.53426105]), array([1.25009513, 0.42852187, 0.53426105]), array([1.25048256, 0.43885732, 0.53426105]), array([1.25007653, 0.43885732, 0.53426105]), array([1.25035334, 0.42852187, 0.53426105]), array([1.24988294, 0.4006958 , 0.53426105]), array([1.24999928, 0.46782479, 0.56952584]), array([1.24990606, 0.43885732, 0.53426105]), array([1.24982834, 0.50693089, 0.61713326]), array([4.00000668, 0.5       , 0.5       ]), array([3.59999847, 0.52083331, 0.52083331]), array([3.60000229, 0.52083331, 0.52083331]), array([3.60000229, 0.52083331, 0.52083331]), array([3.60000086, 0.52083331, 0.52083331]), array([3.59999847, 0.52083331, 0.52083331]), array([3.60000229, 0.52083331, 0.52083331]), array([3.99999833, 0.5       , 0.5       ]), array([4.00000668, 0.5       , 0.5       ]), array([3.59999084, 0.52083331, 0.52083331]), array([3.59999847, 0.52083331, 0.52083331]), array([3.59999847, 0.52083331, 0.52083331]), array([4.00000048, 0.5       , 0.5       ]), array([3.59999847, 0.52083331, 0.52083331]), array([3.5999999 , 0.52083331, 0.52083331]), array([3.60000539, 0.52083331, 0.52083331]), array([3.60000229, 0.52083331, 0.52083331]), array([3.59999847, 0.52083331, 0.52083331]), array([4.00000191, 0.5       , 0.5       ]), array([3.60000038, 0.52083331, 0.52083331]), array([3.6000061 , 0.52083331, 0.52083331]), array([3.59999847, 0.52083331, 0.52083331]), array([3.59999847, 0.52083331, 0.52083331]), array([3.59999847, 0.52083331, 0.52083331]), array([3.59999847, 0.52083331, 0.52083331]), array([3.6000061 , 0.52083331, 0.52083331]), array([3.59999847, 0.52083331, 0.52083331]), array([4.00000048, 0.5       , 0.5       ]), array([3.5999999 , 0.52083331, 0.52083331]), array([3.59999847, 0.52083331, 0.52083331]), array([3.00026011, 0.46875599, 0.46875066]), array([3.29999995, 0.52083331, 0.52083331]), array([3.29999995, 0.52083331, 0.52083331]), array([3.29999995, 0.52083331, 0.52083331]), array([3.29999995, 0.52083331, 0.52083331]), array([3.29999995, 0.52083331, 0.52083331]), array([3.29999995, 0.52083331, 0.52083331]), array([3.29999995, 0.52083331, 0.52083331]), array([3.        , 0.46875066, 0.46875066]), array([3.32999992, 0.46875   , 0.46875   ]), array([3.29999995, 0.46875   , 0.46875   ]), array([3.29999995, 0.46875066, 0.46875066]), array([3.5999999 , 0.52083331, 0.52083331])]\n",
      "original_sizes [(47, 384, 384), (54, 384, 384), (42, 384, 384), (46, 384, 384), (42, 384, 384), (39, 384, 384), (34, 384, 384), (40, 384, 384), (47, 384, 384), (39, 384, 384), (45, 384, 384), (46, 384, 384), (32, 384, 384), (30, 384, 384), (32, 384, 384), (32, 384, 384), (32, 384, 384), (36, 384, 384), (32, 384, 384), (32, 384, 384), (32, 384, 384), (32, 384, 384), (38, 384, 384), (32, 384, 384), (32, 384, 384), (32, 384, 384), (32, 384, 384), (32, 384, 384), (32, 384, 384), (23, 384, 384), (32, 384, 384), (32, 384, 384), (32, 384, 384), (32, 384, 384), (32, 384, 384), (32, 384, 384), (35, 384, 384), (34, 384, 384), (34, 384, 384), (32, 384, 384), (32, 384, 384), (32, 384, 384), (24, 384, 384), (24, 384, 383), (24, 384, 383), (24, 384, 383), (24, 384, 384), (24, 384, 384), (24, 384, 383), (24, 384, 384), (24, 384, 384), (24, 384, 383), (24, 384, 383), (24, 384, 384), (64, 384, 384), (64, 384, 384), (64, 384, 384), (64, 384, 384), (64, 384, 384), (64, 384, 384), (64, 384, 384), (64, 384, 384), (64, 384, 384), (64, 384, 384), (64, 384, 384), (64, 384, 384), (64, 384, 384), (64, 384, 384), (64, 384, 384), (64, 384, 384), (64, 384, 384), (64, 384, 384), (64, 384, 384), (15, 384, 384), (20, 384, 383), (24, 384, 383), (20, 384, 384), (20, 384, 384), (20, 384, 383), (20, 384, 383), (15, 384, 384), (17, 384, 384), (20, 384, 383), (20, 384, 383), (20, 384, 383), (15, 384, 384), (20, 384, 383), (20, 384, 383), (20, 384, 384), (20, 384, 383), (20, 384, 383), (18, 384, 384), (20, 384, 383), (20, 384, 383), (20, 384, 383), (20, 384, 383), (20, 384, 384), (19, 384, 383), (20, 384, 383), (20, 384, 383), (15, 384, 384), (20, 384, 384), (20, 384, 384), (29, 384, 384), (23, 383, 383), (23, 383, 384), (23, 383, 383), (23, 383, 383), (23, 383, 383), (23, 383, 383), (23, 383, 383), (23, 383, 383), (28, 383, 384), (23, 384, 383), (26, 384, 383), (28, 384, 383)]\n",
      "preprocessed_data_folder /data/datasets/nnUNetDG/nnUNet_preprocessed/Task309_ProstateMRIDG\n",
      "num_classes 1\n",
      "all_classes [1]\n",
      "base_num_features 32\n",
      "use_mask_for_norm OrderedDict([(0, False)])\n",
      "keep_only_largest_region None\n",
      "min_region_size_per_class None\n",
      "min_size_per_class None\n",
      "transpose_forward [0, 1, 2]\n",
      "transpose_backward [0, 1, 2]\n",
      "data_identifier nnUNetData_plans_v2.1\n",
      "plans_per_stage {0: {'batch_size': 2, 'num_pool_per_axis': [3, 5, 5], 'patch_size': array([ 40, 224, 224]), 'median_patient_size_in_voxels': array([ 69, 384, 383]), 'current_spacing': array([1.25000739, 0.44078282, 0.52083331]), 'original_spacing': array([1.25000739, 0.44078282, 0.52083331]), 'do_dummy_2D_data_aug': True, 'pool_op_kernel_sizes': [[1, 2, 2], [2, 2, 2], [2, 2, 2], [2, 2, 2], [1, 2, 2]], 'conv_kernel_sizes': [[1, 3, 3], [3, 3, 3], [3, 3, 3], [3, 3, 3], [3, 3, 3], [3, 3, 3]]}}\n",
      "preprocessor_name GenericPreprocessor\n",
      "conv_per_stage 2\n"
     ]
    }
   ],
   "source": [
    "for key in update_plans:\n",
    "    print(key, update_plans[key])"
   ]
  },
  {
   "cell_type": "code",
   "execution_count": 4,
   "metadata": {},
   "outputs": [
    {
     "data": {
      "text/plain": [
       "{'batch_size': 2,\n",
       " 'num_pool_per_axis': [3, 5, 5],\n",
       " 'patch_size': array([ 40, 224, 224]),\n",
       " 'median_patient_size_in_voxels': array([ 69, 384, 383]),\n",
       " 'current_spacing': array([1.25000739, 0.44078282, 0.52083331]),\n",
       " 'original_spacing': array([1.25000739, 0.44078282, 0.52083331]),\n",
       " 'do_dummy_2D_data_aug': True,\n",
       " 'pool_op_kernel_sizes': [[1, 2, 2],\n",
       "  [2, 2, 2],\n",
       "  [2, 2, 2],\n",
       "  [2, 2, 2],\n",
       "  [1, 2, 2]],\n",
       " 'conv_kernel_sizes': [[1, 3, 3],\n",
       "  [3, 3, 3],\n",
       "  [3, 3, 3],\n",
       "  [3, 3, 3],\n",
       "  [3, 3, 3],\n",
       "  [3, 3, 3]]}"
      ]
     },
     "execution_count": 4,
     "metadata": {},
     "output_type": "execute_result"
    }
   ],
   "source": [
    "update_plans[\"plans_per_stage\"][0]"
   ]
  },
  {
   "cell_type": "code",
   "execution_count": 5,
   "metadata": {},
   "outputs": [],
   "source": [
    "### update the network structure \n",
    "import numpy as np\n",
    "\n",
    "patch_size = np.array([32, 256, 256])\n",
    "num_pool_per_axis = [4, 6, 6]\n",
    "conv_kernel_sizes = [[1, 3, 3],\n",
    "                    [3, 3, 3],\n",
    "                    [3, 3, 3],\n",
    "                    [3, 3, 3],\n",
    "                    [3, 3, 3],\n",
    "                    [3, 3, 3],\n",
    "                    [3, 3, 3],]\n",
    "pool_op_kernel_sizes = [[1, 2, 2],\n",
    "                        [1, 2, 2],\n",
    "                        [2, 2, 2],\n",
    "                        [2, 2, 2],\n",
    "                        [2, 2, 2],\n",
    "                        [2, 2, 2],]\n",
    "\n",
    "update_plans[\"plans_per_stage\"][0][\"patch_size\"] = patch_size\n",
    "update_plans[\"plans_per_stage\"][0][\"num_pool_per_axis\"] = num_pool_per_axis\n",
    "update_plans[\"plans_per_stage\"][0][\"conv_kernel_sizes\"] = conv_kernel_sizes\n",
    "update_plans[\"plans_per_stage\"][0][\"pool_op_kernel_sizes\"] = pool_op_kernel_sizes\n"
   ]
  },
  {
   "cell_type": "code",
   "execution_count": 6,
   "metadata": {},
   "outputs": [],
   "source": [
    "update_plans[\"base_num_features\"] = 16"
   ]
  },
  {
   "cell_type": "code",
   "execution_count": 7,
   "metadata": {},
   "outputs": [
    {
     "data": {
      "text/plain": [
       "['/data/datasets/nnUNetDG/nnUNet_raw_data_base/nnUNet_cropped_data/Task309_ProstateMRIDG/BIDMC_Case00.npz',\n",
       " '/data/datasets/nnUNetDG/nnUNet_raw_data_base/nnUNet_cropped_data/Task309_ProstateMRIDG/BIDMC_Case02.npz',\n",
       " '/data/datasets/nnUNetDG/nnUNet_raw_data_base/nnUNet_cropped_data/Task309_ProstateMRIDG/BIDMC_Case03.npz',\n",
       " '/data/datasets/nnUNetDG/nnUNet_raw_data_base/nnUNet_cropped_data/Task309_ProstateMRIDG/BIDMC_Case04.npz',\n",
       " '/data/datasets/nnUNetDG/nnUNet_raw_data_base/nnUNet_cropped_data/Task309_ProstateMRIDG/BIDMC_Case05.npz',\n",
       " '/data/datasets/nnUNetDG/nnUNet_raw_data_base/nnUNet_cropped_data/Task309_ProstateMRIDG/BIDMC_Case06.npz',\n",
       " '/data/datasets/nnUNetDG/nnUNet_raw_data_base/nnUNet_cropped_data/Task309_ProstateMRIDG/BIDMC_Case07.npz',\n",
       " '/data/datasets/nnUNetDG/nnUNet_raw_data_base/nnUNet_cropped_data/Task309_ProstateMRIDG/BIDMC_Case08.npz',\n",
       " '/data/datasets/nnUNetDG/nnUNet_raw_data_base/nnUNet_cropped_data/Task309_ProstateMRIDG/BIDMC_Case09.npz',\n",
       " '/data/datasets/nnUNetDG/nnUNet_raw_data_base/nnUNet_cropped_data/Task309_ProstateMRIDG/BIDMC_Case10.npz',\n",
       " '/data/datasets/nnUNetDG/nnUNet_raw_data_base/nnUNet_cropped_data/Task309_ProstateMRIDG/BIDMC_Case11.npz',\n",
       " '/data/datasets/nnUNetDG/nnUNet_raw_data_base/nnUNet_cropped_data/Task309_ProstateMRIDG/BIDMC_Case12.npz',\n",
       " '/data/datasets/nnUNetDG/nnUNet_raw_data_base/nnUNet_cropped_data/Task309_ProstateMRIDG/BMC_Case00.npz',\n",
       " '/data/datasets/nnUNetDG/nnUNet_raw_data_base/nnUNet_cropped_data/Task309_ProstateMRIDG/BMC_Case01.npz',\n",
       " '/data/datasets/nnUNetDG/nnUNet_raw_data_base/nnUNet_cropped_data/Task309_ProstateMRIDG/BMC_Case02.npz',\n",
       " '/data/datasets/nnUNetDG/nnUNet_raw_data_base/nnUNet_cropped_data/Task309_ProstateMRIDG/BMC_Case03.npz',\n",
       " '/data/datasets/nnUNetDG/nnUNet_raw_data_base/nnUNet_cropped_data/Task309_ProstateMRIDG/BMC_Case04.npz',\n",
       " '/data/datasets/nnUNetDG/nnUNet_raw_data_base/nnUNet_cropped_data/Task309_ProstateMRIDG/BMC_Case05.npz',\n",
       " '/data/datasets/nnUNetDG/nnUNet_raw_data_base/nnUNet_cropped_data/Task309_ProstateMRIDG/BMC_Case06.npz',\n",
       " '/data/datasets/nnUNetDG/nnUNet_raw_data_base/nnUNet_cropped_data/Task309_ProstateMRIDG/BMC_Case07.npz',\n",
       " '/data/datasets/nnUNetDG/nnUNet_raw_data_base/nnUNet_cropped_data/Task309_ProstateMRIDG/BMC_Case08.npz',\n",
       " '/data/datasets/nnUNetDG/nnUNet_raw_data_base/nnUNet_cropped_data/Task309_ProstateMRIDG/BMC_Case09.npz',\n",
       " '/data/datasets/nnUNetDG/nnUNet_raw_data_base/nnUNet_cropped_data/Task309_ProstateMRIDG/BMC_Case10.npz',\n",
       " '/data/datasets/nnUNetDG/nnUNet_raw_data_base/nnUNet_cropped_data/Task309_ProstateMRIDG/BMC_Case11.npz',\n",
       " '/data/datasets/nnUNetDG/nnUNet_raw_data_base/nnUNet_cropped_data/Task309_ProstateMRIDG/BMC_Case12.npz',\n",
       " '/data/datasets/nnUNetDG/nnUNet_raw_data_base/nnUNet_cropped_data/Task309_ProstateMRIDG/BMC_Case13.npz',\n",
       " '/data/datasets/nnUNetDG/nnUNet_raw_data_base/nnUNet_cropped_data/Task309_ProstateMRIDG/BMC_Case14.npz',\n",
       " '/data/datasets/nnUNetDG/nnUNet_raw_data_base/nnUNet_cropped_data/Task309_ProstateMRIDG/BMC_Case15.npz',\n",
       " '/data/datasets/nnUNetDG/nnUNet_raw_data_base/nnUNet_cropped_data/Task309_ProstateMRIDG/BMC_Case16.npz',\n",
       " '/data/datasets/nnUNetDG/nnUNet_raw_data_base/nnUNet_cropped_data/Task309_ProstateMRIDG/BMC_Case17.npz',\n",
       " '/data/datasets/nnUNetDG/nnUNet_raw_data_base/nnUNet_cropped_data/Task309_ProstateMRIDG/BMC_Case18.npz',\n",
       " '/data/datasets/nnUNetDG/nnUNet_raw_data_base/nnUNet_cropped_data/Task309_ProstateMRIDG/BMC_Case19.npz',\n",
       " '/data/datasets/nnUNetDG/nnUNet_raw_data_base/nnUNet_cropped_data/Task309_ProstateMRIDG/BMC_Case20.npz',\n",
       " '/data/datasets/nnUNetDG/nnUNet_raw_data_base/nnUNet_cropped_data/Task309_ProstateMRIDG/BMC_Case21.npz',\n",
       " '/data/datasets/nnUNetDG/nnUNet_raw_data_base/nnUNet_cropped_data/Task309_ProstateMRIDG/BMC_Case22.npz',\n",
       " '/data/datasets/nnUNetDG/nnUNet_raw_data_base/nnUNet_cropped_data/Task309_ProstateMRIDG/BMC_Case23.npz',\n",
       " '/data/datasets/nnUNetDG/nnUNet_raw_data_base/nnUNet_cropped_data/Task309_ProstateMRIDG/BMC_Case24.npz',\n",
       " '/data/datasets/nnUNetDG/nnUNet_raw_data_base/nnUNet_cropped_data/Task309_ProstateMRIDG/BMC_Case25.npz',\n",
       " '/data/datasets/nnUNetDG/nnUNet_raw_data_base/nnUNet_cropped_data/Task309_ProstateMRIDG/BMC_Case26.npz',\n",
       " '/data/datasets/nnUNetDG/nnUNet_raw_data_base/nnUNet_cropped_data/Task309_ProstateMRIDG/BMC_Case27.npz',\n",
       " '/data/datasets/nnUNetDG/nnUNet_raw_data_base/nnUNet_cropped_data/Task309_ProstateMRIDG/BMC_Case28.npz',\n",
       " '/data/datasets/nnUNetDG/nnUNet_raw_data_base/nnUNet_cropped_data/Task309_ProstateMRIDG/BMC_Case29.npz',\n",
       " '/data/datasets/nnUNetDG/nnUNet_raw_data_base/nnUNet_cropped_data/Task309_ProstateMRIDG/HK_Case38.npz',\n",
       " '/data/datasets/nnUNetDG/nnUNet_raw_data_base/nnUNet_cropped_data/Task309_ProstateMRIDG/HK_Case39.npz',\n",
       " '/data/datasets/nnUNetDG/nnUNet_raw_data_base/nnUNet_cropped_data/Task309_ProstateMRIDG/HK_Case40.npz',\n",
       " '/data/datasets/nnUNetDG/nnUNet_raw_data_base/nnUNet_cropped_data/Task309_ProstateMRIDG/HK_Case41.npz',\n",
       " '/data/datasets/nnUNetDG/nnUNet_raw_data_base/nnUNet_cropped_data/Task309_ProstateMRIDG/HK_Case42.npz',\n",
       " '/data/datasets/nnUNetDG/nnUNet_raw_data_base/nnUNet_cropped_data/Task309_ProstateMRIDG/HK_Case43.npz',\n",
       " '/data/datasets/nnUNetDG/nnUNet_raw_data_base/nnUNet_cropped_data/Task309_ProstateMRIDG/HK_Case44.npz',\n",
       " '/data/datasets/nnUNetDG/nnUNet_raw_data_base/nnUNet_cropped_data/Task309_ProstateMRIDG/HK_Case45.npz',\n",
       " '/data/datasets/nnUNetDG/nnUNet_raw_data_base/nnUNet_cropped_data/Task309_ProstateMRIDG/HK_Case46.npz',\n",
       " '/data/datasets/nnUNetDG/nnUNet_raw_data_base/nnUNet_cropped_data/Task309_ProstateMRIDG/HK_Case47.npz',\n",
       " '/data/datasets/nnUNetDG/nnUNet_raw_data_base/nnUNet_cropped_data/Task309_ProstateMRIDG/HK_Case48.npz',\n",
       " '/data/datasets/nnUNetDG/nnUNet_raw_data_base/nnUNet_cropped_data/Task309_ProstateMRIDG/HK_Case49.npz',\n",
       " '/data/datasets/nnUNetDG/nnUNet_raw_data_base/nnUNet_cropped_data/Task309_ProstateMRIDG/I2CVB_Case00.npz',\n",
       " '/data/datasets/nnUNetDG/nnUNet_raw_data_base/nnUNet_cropped_data/Task309_ProstateMRIDG/I2CVB_Case01.npz',\n",
       " '/data/datasets/nnUNetDG/nnUNet_raw_data_base/nnUNet_cropped_data/Task309_ProstateMRIDG/I2CVB_Case02.npz',\n",
       " '/data/datasets/nnUNetDG/nnUNet_raw_data_base/nnUNet_cropped_data/Task309_ProstateMRIDG/I2CVB_Case03.npz',\n",
       " '/data/datasets/nnUNetDG/nnUNet_raw_data_base/nnUNet_cropped_data/Task309_ProstateMRIDG/I2CVB_Case04.npz',\n",
       " '/data/datasets/nnUNetDG/nnUNet_raw_data_base/nnUNet_cropped_data/Task309_ProstateMRIDG/I2CVB_Case05.npz',\n",
       " '/data/datasets/nnUNetDG/nnUNet_raw_data_base/nnUNet_cropped_data/Task309_ProstateMRIDG/I2CVB_Case06.npz',\n",
       " '/data/datasets/nnUNetDG/nnUNet_raw_data_base/nnUNet_cropped_data/Task309_ProstateMRIDG/I2CVB_Case07.npz',\n",
       " '/data/datasets/nnUNetDG/nnUNet_raw_data_base/nnUNet_cropped_data/Task309_ProstateMRIDG/I2CVB_Case08.npz',\n",
       " '/data/datasets/nnUNetDG/nnUNet_raw_data_base/nnUNet_cropped_data/Task309_ProstateMRIDG/I2CVB_Case09.npz',\n",
       " '/data/datasets/nnUNetDG/nnUNet_raw_data_base/nnUNet_cropped_data/Task309_ProstateMRIDG/I2CVB_Case10.npz',\n",
       " '/data/datasets/nnUNetDG/nnUNet_raw_data_base/nnUNet_cropped_data/Task309_ProstateMRIDG/I2CVB_Case11.npz',\n",
       " '/data/datasets/nnUNetDG/nnUNet_raw_data_base/nnUNet_cropped_data/Task309_ProstateMRIDG/I2CVB_Case12.npz',\n",
       " '/data/datasets/nnUNetDG/nnUNet_raw_data_base/nnUNet_cropped_data/Task309_ProstateMRIDG/I2CVB_Case13.npz',\n",
       " '/data/datasets/nnUNetDG/nnUNet_raw_data_base/nnUNet_cropped_data/Task309_ProstateMRIDG/I2CVB_Case14.npz',\n",
       " '/data/datasets/nnUNetDG/nnUNet_raw_data_base/nnUNet_cropped_data/Task309_ProstateMRIDG/I2CVB_Case15.npz',\n",
       " '/data/datasets/nnUNetDG/nnUNet_raw_data_base/nnUNet_cropped_data/Task309_ProstateMRIDG/I2CVB_Case16.npz',\n",
       " '/data/datasets/nnUNetDG/nnUNet_raw_data_base/nnUNet_cropped_data/Task309_ProstateMRIDG/I2CVB_Case17.npz',\n",
       " '/data/datasets/nnUNetDG/nnUNet_raw_data_base/nnUNet_cropped_data/Task309_ProstateMRIDG/I2CVB_Case18.npz',\n",
       " '/data/datasets/nnUNetDG/nnUNet_raw_data_base/nnUNet_cropped_data/Task309_ProstateMRIDG/RUNMC_Case00.npz',\n",
       " '/data/datasets/nnUNetDG/nnUNet_raw_data_base/nnUNet_cropped_data/Task309_ProstateMRIDG/RUNMC_Case01.npz',\n",
       " '/data/datasets/nnUNetDG/nnUNet_raw_data_base/nnUNet_cropped_data/Task309_ProstateMRIDG/RUNMC_Case02.npz',\n",
       " '/data/datasets/nnUNetDG/nnUNet_raw_data_base/nnUNet_cropped_data/Task309_ProstateMRIDG/RUNMC_Case03.npz',\n",
       " '/data/datasets/nnUNetDG/nnUNet_raw_data_base/nnUNet_cropped_data/Task309_ProstateMRIDG/RUNMC_Case04.npz',\n",
       " '/data/datasets/nnUNetDG/nnUNet_raw_data_base/nnUNet_cropped_data/Task309_ProstateMRIDG/RUNMC_Case05.npz',\n",
       " '/data/datasets/nnUNetDG/nnUNet_raw_data_base/nnUNet_cropped_data/Task309_ProstateMRIDG/RUNMC_Case06.npz',\n",
       " '/data/datasets/nnUNetDG/nnUNet_raw_data_base/nnUNet_cropped_data/Task309_ProstateMRIDG/RUNMC_Case07.npz',\n",
       " '/data/datasets/nnUNetDG/nnUNet_raw_data_base/nnUNet_cropped_data/Task309_ProstateMRIDG/RUNMC_Case08.npz',\n",
       " '/data/datasets/nnUNetDG/nnUNet_raw_data_base/nnUNet_cropped_data/Task309_ProstateMRIDG/RUNMC_Case09.npz',\n",
       " '/data/datasets/nnUNetDG/nnUNet_raw_data_base/nnUNet_cropped_data/Task309_ProstateMRIDG/RUNMC_Case10.npz',\n",
       " '/data/datasets/nnUNetDG/nnUNet_raw_data_base/nnUNet_cropped_data/Task309_ProstateMRIDG/RUNMC_Case11.npz',\n",
       " '/data/datasets/nnUNetDG/nnUNet_raw_data_base/nnUNet_cropped_data/Task309_ProstateMRIDG/RUNMC_Case12.npz',\n",
       " '/data/datasets/nnUNetDG/nnUNet_raw_data_base/nnUNet_cropped_data/Task309_ProstateMRIDG/RUNMC_Case13.npz',\n",
       " '/data/datasets/nnUNetDG/nnUNet_raw_data_base/nnUNet_cropped_data/Task309_ProstateMRIDG/RUNMC_Case14.npz',\n",
       " '/data/datasets/nnUNetDG/nnUNet_raw_data_base/nnUNet_cropped_data/Task309_ProstateMRIDG/RUNMC_Case15.npz',\n",
       " '/data/datasets/nnUNetDG/nnUNet_raw_data_base/nnUNet_cropped_data/Task309_ProstateMRIDG/RUNMC_Case16.npz',\n",
       " '/data/datasets/nnUNetDG/nnUNet_raw_data_base/nnUNet_cropped_data/Task309_ProstateMRIDG/RUNMC_Case17.npz',\n",
       " '/data/datasets/nnUNetDG/nnUNet_raw_data_base/nnUNet_cropped_data/Task309_ProstateMRIDG/RUNMC_Case18.npz',\n",
       " '/data/datasets/nnUNetDG/nnUNet_raw_data_base/nnUNet_cropped_data/Task309_ProstateMRIDG/RUNMC_Case19.npz',\n",
       " '/data/datasets/nnUNetDG/nnUNet_raw_data_base/nnUNet_cropped_data/Task309_ProstateMRIDG/RUNMC_Case20.npz',\n",
       " '/data/datasets/nnUNetDG/nnUNet_raw_data_base/nnUNet_cropped_data/Task309_ProstateMRIDG/RUNMC_Case21.npz',\n",
       " '/data/datasets/nnUNetDG/nnUNet_raw_data_base/nnUNet_cropped_data/Task309_ProstateMRIDG/RUNMC_Case22.npz',\n",
       " '/data/datasets/nnUNetDG/nnUNet_raw_data_base/nnUNet_cropped_data/Task309_ProstateMRIDG/RUNMC_Case23.npz',\n",
       " '/data/datasets/nnUNetDG/nnUNet_raw_data_base/nnUNet_cropped_data/Task309_ProstateMRIDG/RUNMC_Case24.npz',\n",
       " '/data/datasets/nnUNetDG/nnUNet_raw_data_base/nnUNet_cropped_data/Task309_ProstateMRIDG/RUNMC_Case25.npz',\n",
       " '/data/datasets/nnUNetDG/nnUNet_raw_data_base/nnUNet_cropped_data/Task309_ProstateMRIDG/RUNMC_Case26.npz',\n",
       " '/data/datasets/nnUNetDG/nnUNet_raw_data_base/nnUNet_cropped_data/Task309_ProstateMRIDG/RUNMC_Case27.npz',\n",
       " '/data/datasets/nnUNetDG/nnUNet_raw_data_base/nnUNet_cropped_data/Task309_ProstateMRIDG/RUNMC_Case28.npz',\n",
       " '/data/datasets/nnUNetDG/nnUNet_raw_data_base/nnUNet_cropped_data/Task309_ProstateMRIDG/RUNMC_Case29.npz',\n",
       " '/data/datasets/nnUNetDG/nnUNet_raw_data_base/nnUNet_cropped_data/Task309_ProstateMRIDG/UCL_Case01.npz',\n",
       " '/data/datasets/nnUNetDG/nnUNet_raw_data_base/nnUNet_cropped_data/Task309_ProstateMRIDG/UCL_Case26.npz',\n",
       " '/data/datasets/nnUNetDG/nnUNet_raw_data_base/nnUNet_cropped_data/Task309_ProstateMRIDG/UCL_Case27.npz',\n",
       " '/data/datasets/nnUNetDG/nnUNet_raw_data_base/nnUNet_cropped_data/Task309_ProstateMRIDG/UCL_Case28.npz',\n",
       " '/data/datasets/nnUNetDG/nnUNet_raw_data_base/nnUNet_cropped_data/Task309_ProstateMRIDG/UCL_Case29.npz',\n",
       " '/data/datasets/nnUNetDG/nnUNet_raw_data_base/nnUNet_cropped_data/Task309_ProstateMRIDG/UCL_Case30.npz',\n",
       " '/data/datasets/nnUNetDG/nnUNet_raw_data_base/nnUNet_cropped_data/Task309_ProstateMRIDG/UCL_Case31.npz',\n",
       " '/data/datasets/nnUNetDG/nnUNet_raw_data_base/nnUNet_cropped_data/Task309_ProstateMRIDG/UCL_Case32.npz',\n",
       " '/data/datasets/nnUNetDG/nnUNet_raw_data_base/nnUNet_cropped_data/Task309_ProstateMRIDG/UCL_Case33.npz',\n",
       " '/data/datasets/nnUNetDG/nnUNet_raw_data_base/nnUNet_cropped_data/Task309_ProstateMRIDG/UCL_Case34.npz',\n",
       " '/data/datasets/nnUNetDG/nnUNet_raw_data_base/nnUNet_cropped_data/Task309_ProstateMRIDG/UCL_Case35.npz',\n",
       " '/data/datasets/nnUNetDG/nnUNet_raw_data_base/nnUNet_cropped_data/Task309_ProstateMRIDG/UCL_Case36.npz',\n",
       " '/data/datasets/nnUNetDG/nnUNet_raw_data_base/nnUNet_cropped_data/Task309_ProstateMRIDG/UCL_Case37.npz']"
      ]
     },
     "execution_count": 7,
     "metadata": {},
     "output_type": "execute_result"
    }
   ],
   "source": [
    "update_plans[\"list_of_npz_files\"]"
   ]
  },
  {
   "cell_type": "code",
   "execution_count": 12,
   "metadata": {},
   "outputs": [],
   "source": [
    "dataset_properties = pickle.load(open(os.path.join(base_folder, task_name, \"dataset_properties.pkl\"), 'rb'))"
   ]
  },
  {
   "cell_type": "code",
   "execution_count": 14,
   "metadata": {},
   "outputs": [
    {
     "data": {
      "text/plain": [
       "dict_keys(['all_sizes', 'all_spacings', 'all_classes', 'modalities', 'intensityproperties', 'size_reductions'])"
      ]
     },
     "execution_count": 14,
     "metadata": {},
     "output_type": "execute_result"
    }
   ],
   "source": [
    "dataset_properties.keys()"
   ]
  },
  {
   "cell_type": "code",
   "execution_count": 16,
   "metadata": {},
   "outputs": [],
   "source": [
    "### write the updated plans to the file\n",
    "with open(os.path.join(base_folder, task_name, \"nnUNetPlansv2.1_pretrained_plans_3D.pkl\"), 'wb') as f:\n",
    "    pickle.dump(update_plans, f)"
   ]
  }
 ],
 "metadata": {
  "kernelspec": {
   "display_name": "nnUNet",
   "language": "python",
   "name": "python3"
  },
  "language_info": {
   "codemirror_mode": {
    "name": "ipython",
    "version": 3
   },
   "file_extension": ".py",
   "mimetype": "text/x-python",
   "name": "python",
   "nbconvert_exporter": "python",
   "pygments_lexer": "ipython3",
   "version": "3.8.18"
  }
 },
 "nbformat": 4,
 "nbformat_minor": 2
}
